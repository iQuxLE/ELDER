{
 "cells": [
  {
   "cell_type": "code",
   "execution_count": 1,
   "id": "initial_id",
   "metadata": {
    "collapsed": true,
    "ExecuteTime": {
     "end_time": "2023-12-18T11:56:54.053528Z",
     "start_time": "2023-12-18T11:56:51.007743Z"
    }
   },
   "outputs": [
    {
     "name": "stderr",
     "output_type": "stream",
     "text": [
      "/Users/carlo/Library/Caches/pypoetry/virtualenvs/ragexomiser-zrQ6sJMn-py3.11/lib/python3.11/site-packages/chromadb/utils/embedding_functions.py:584: SyntaxWarning: \"is\" with a literal. Did you mean \"==\"?\n",
      "  if self._task_type is \"RETRIEVAL_DOCUMENT\":\n"
     ]
    }
   ],
   "source": [
    "from core.runner import Runner\n",
    "from utils.similarity_measures import SimilarityMeasures\n",
    "import time"
   ]
  },
  {
   "cell_type": "markdown",
   "source": [
    "Step 2: Initialize the Main Class\n",
    "Create an instance of Main class. This will initialize other components like ChromaDBManager and DataProcessor."
   ],
   "metadata": {
    "collapsed": false
   },
   "id": "309159e76ff28eb"
  },
  {
   "cell_type": "code",
   "execution_count": 3,
   "outputs": [
    {
     "name": "stdout",
     "output_type": "stream",
     "text": [
      "53.257115840911865\n"
     ]
    }
   ],
   "source": [
    "# Initialize with default or specific similarity measure\n",
    "start = time.time()\n",
    "main_system = Runner(similarity_measure=SimilarityMeasures.COSINE)\n",
    "end = time.time()\n",
    "print(end-start)"
   ],
   "metadata": {
    "collapsed": false,
    "ExecuteTime": {
     "end_time": "2023-12-18T11:58:10.586680Z",
     "start_time": "2023-12-18T11:57:17.320890Z"
    }
   },
   "id": "9fb146a8bd1ca24e"
  },
  {
   "cell_type": "markdown",
   "source": [
    "Step 3: Initialize Data and Collections\n",
    "Call the initialize_data method to set up data structures like hp_embeddings and disease_to_hps."
   ],
   "metadata": {
    "collapsed": false
   },
   "id": "ece61a80e901fc32"
  },
  {
   "cell_type": "code",
   "execution_count": 4,
   "outputs": [
    {
     "name": "stdout",
     "output_type": "stream",
     "text": [
      "5.412101745605469e-05\n"
     ]
    }
   ],
   "source": [
    "start = time.time()\n",
    "main_system.initialize_data()\n",
    "end = time.time()\n",
    "print(end-start)"
   ],
   "metadata": {
    "collapsed": false,
    "ExecuteTime": {
     "end_time": "2023-12-18T11:58:20.211169Z",
     "start_time": "2023-12-18T11:58:20.194921Z"
    }
   },
   "id": "3caf3793bfda1c1b"
  },
  {
   "cell_type": "markdown",
   "source": [
    "Step 4: Setup Collections\n"
   ],
   "metadata": {
    "collapsed": false
   },
   "id": "fac98f90d5fa1aed"
  },
  {
   "cell_type": "code",
   "execution_count": 5,
   "outputs": [
    {
     "name": "stdout",
     "output_type": "stream",
     "text": [
      "Total time for upsert operations: 1013.9049916267395s\n",
      "Total time for embedding calculations: 2.0363736152648926s\n",
      "Total time for upsert operations: 59.90044355392456s\n",
      "1075.915755033493\n"
     ]
    }
   ],
   "source": [
    "start = time.time()\n",
    "main_system.setup_collections()\n",
    "end = time.time()\n",
    "print(end-start)"
   ],
   "metadata": {
    "collapsed": false,
    "ExecuteTime": {
     "end_time": "2023-12-18T12:16:21.723608Z",
     "start_time": "2023-12-18T11:58:25.835201Z"
    }
   },
   "id": "cdf942ff83522539"
  },
  {
   "cell_type": "markdown",
   "source": [
    "Step 5: Run Analysis\n",
    "To run the analysis, specify the similarity strategy, the input HPO terms, and the collection name. The necessary data needs to be available in the notebook."
   ],
   "metadata": {
    "collapsed": false
   },
   "id": "56e4f1bf16940aa1"
  },
  {
   "cell_type": "code",
   "execution_count": 6,
   "outputs": [],
   "source": [
    "# Choose a similarity strategy\n",
    "# similarity_strategy = CosineSimilarity()  # or L2Distance(), etc. this must go out for other function\n",
    "\n",
    "notFullhpListOfOMIM619340 = [\n",
    " 'HP:0001522',\n",
    " 'HP:0010851',\n",
    " 'HP:0002643',\n",
    " 'HP:0032792',\n",
    " 'HP:0002187',\n",
    " 'HP:0000006',\n",
    " 'HP:0200134',\n",
    " 'HP:0011451',\n",
    " 'HP:0001789',\n",
    " 'HP:0011097']\n",
    "\n",
    "allfromomim619340v= [\"HP:0011097\",\t\n",
    "\"HP:0002187\",\t\n",
    "\"HP:0001518\",\t\n",
    "\"HP:0032792\",\t\n",
    "\"HP:0011451\",\t\n",
    "\"HP:0010851\",\t\n",
    "\"HP:0001789\",\t\n",
    "\"HP:0200134\",\t\n",
    "\"HP:0001522\",\n",
    "\"HP:0000006\",\n",
    "\"HP:0002643\"]\n",
    "\n",
    "\n"
   ],
   "metadata": {
    "collapsed": false,
    "ExecuteTime": {
     "end_time": "2023-12-18T12:16:29.621145Z",
     "start_time": "2023-12-18T12:16:29.618436Z"
    }
   },
   "id": "8c36c7b20caab48a"
  },
  {
   "cell_type": "code",
   "execution_count": 7,
   "outputs": [
    {
     "name": "stdout",
     "output_type": "stream",
     "text": [
      "0.010306119918823242\n"
     ]
    }
   ],
   "source": [
    "start = time.time()\n",
    "# Run analysis\n",
    "results = main_system.run_analysis(notFullhpListOfOMIM619340)\n",
    "end = time.time()\n",
    "print(end-start)"
   ],
   "metadata": {
    "collapsed": false,
    "ExecuteTime": {
     "end_time": "2023-12-18T12:16:36.300542Z",
     "start_time": "2023-12-18T12:16:36.290320Z"
    }
   },
   "id": "1630f3dc2c7830f7"
  },
  {
   "cell_type": "code",
   "execution_count": 8,
   "outputs": [
    {
     "data": {
      "text/plain": "[('OMIM:619340', 0.002229071920737624),\n ('OMIM:251280', 0.020075643435120583),\n ('OMIM:266100', 0.020780911669135094),\n ('OMIM:614558', 0.02147177793085575),\n ('OMIM:617929', 0.02174798771739006),\n ('OMIM:612164', 0.021880965679883957),\n ('OMIM:617105', 0.022684408351778984),\n ('OMIM:620033', 0.023259595036506653),\n ('OMIM:619881', 0.023755500093102455),\n ('OMIM:619913', 0.0238623209297657)]"
     },
     "execution_count": 8,
     "metadata": {},
     "output_type": "execute_result"
    }
   ],
   "source": [
    "results"
   ],
   "metadata": {
    "collapsed": false,
    "ExecuteTime": {
     "end_time": "2023-12-18T12:16:38.797190Z",
     "start_time": "2023-12-18T12:16:38.790530Z"
    }
   },
   "id": "247b510da87a6e2c"
  },
  {
   "cell_type": "code",
   "execution_count": 9,
   "outputs": [
    {
     "name": "stdout",
     "output_type": "stream",
     "text": [
      "0.5632619857788086\n"
     ]
    }
   ],
   "source": [
    "start = time.time()\n",
    "new_results = main_system.run_analysis(allfromomim619340v, n_results=11700)\n",
    "end = time.time()\n",
    "print(end - start)\n"
   ],
   "metadata": {
    "collapsed": false,
    "ExecuteTime": {
     "end_time": "2023-12-18T12:16:43.490284Z",
     "start_time": "2023-12-18T12:16:42.923547Z"
    }
   },
   "id": "58a065b663bcc498"
  },
  {
   "cell_type": "code",
   "execution_count": 8,
   "outputs": [],
   "source": [],
   "metadata": {
    "collapsed": false,
    "ExecuteTime": {
     "end_time": "2023-12-14T20:23:06.030014Z",
     "start_time": "2023-12-14T20:23:06.028391Z"
    }
   },
   "id": "191789b43e590f79"
  }
 ],
 "metadata": {
  "kernelspec": {
   "display_name": "Python 3",
   "language": "python",
   "name": "python3"
  },
  "language_info": {
   "codemirror_mode": {
    "name": "ipython",
    "version": 2
   },
   "file_extension": ".py",
   "mimetype": "text/x-python",
   "name": "python",
   "nbconvert_exporter": "python",
   "pygments_lexer": "ipython2",
   "version": "2.7.6"
  }
 },
 "nbformat": 4,
 "nbformat_minor": 5
}

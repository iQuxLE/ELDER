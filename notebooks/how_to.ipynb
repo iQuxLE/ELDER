{
 "cells": [
  {
   "cell_type": "code",
   "execution_count": 1,
   "id": "initial_id",
   "metadata": {
    "collapsed": true,
    "ExecuteTime": {
     "end_time": "2024-01-04T19:11:05.289954Z",
     "start_time": "2024-01-04T19:11:04.572652Z"
    }
   },
   "outputs": [],
   "source": [
    "from core.runner import Runner\n",
    "from utils.similarity_measures import SimilarityMeasures\n",
    "import time"
   ]
  },
  {
   "cell_type": "markdown",
   "source": [
    "Step 2: Initialize the Main Class\n",
    "Create an instance of Main class. This will initialize other components like ChromaDBManager and DataProcessor."
   ],
   "metadata": {
    "collapsed": false
   },
   "id": "309159e76ff28eb"
  },
  {
   "cell_type": "code",
   "execution_count": 2,
   "outputs": [
    {
     "name": "stdout",
     "output_type": "stream",
     "text": [
      "60.84821105003357\n"
     ]
    }
   ],
   "source": [
    "# Initialize with default or specific similarity measure\n",
    "start = time.time()\n",
    "main_system = Runner(similarity_measure=SimilarityMeasures.COSINE)\n",
    "end = time.time()\n",
    "print(end-start)"
   ],
   "metadata": {
    "collapsed": false,
    "ExecuteTime": {
     "end_time": "2024-01-04T19:12:07.195402Z",
     "start_time": "2024-01-04T19:11:06.338924Z"
    }
   },
   "id": "9fb146a8bd1ca24e"
  },
  {
   "cell_type": "markdown",
   "source": [
    "Step 3: Initialize Data and Collections\n",
    "Call the initialize_data method to set up data structures like hp_embeddings and disease_to_hps."
   ],
   "metadata": {
    "collapsed": false
   },
   "id": "ece61a80e901fc32"
  },
  {
   "cell_type": "code",
   "execution_count": 3,
   "outputs": [
    {
     "name": "stdout",
     "output_type": "stream",
     "text": [
      "8.320808410644531e-05\n"
     ]
    }
   ],
   "source": [
    "start = time.time()\n",
    "main_system.initialize_data()\n",
    "end = time.time()\n",
    "print(end-start)"
   ],
   "metadata": {
    "collapsed": false,
    "ExecuteTime": {
     "end_time": "2024-01-04T19:12:07.207249Z",
     "start_time": "2024-01-04T19:12:07.196660Z"
    }
   },
   "id": "3caf3793bfda1c1b"
  },
  {
   "cell_type": "markdown",
   "source": [
    "Step 4: Setup Collections\n"
   ],
   "metadata": {
    "collapsed": false
   },
   "id": "fac98f90d5fa1aed"
  },
  {
   "cell_type": "code",
   "execution_count": 4,
   "outputs": [
    {
     "name": "stdout",
     "output_type": "stream",
     "text": [
      "Total time for upsert operations: 1488.5210809707642s\n",
      "Total time for embedding calculations: 1.7428796291351318s\n",
      "Total time for upsert operations: 75.49307823181152s\n",
      "1570.077476978302\n"
     ]
    }
   ],
   "source": [
    "start = time.time()\n",
    "main_system.setup_collections()\n",
    "end = time.time()\n",
    "print(end-start)"
   ],
   "metadata": {
    "collapsed": false,
    "ExecuteTime": {
     "end_time": "2024-01-04T19:38:17.311443Z",
     "start_time": "2024-01-04T19:12:07.210856Z"
    }
   },
   "id": "cdf942ff83522539"
  },
  {
   "cell_type": "markdown",
   "source": [
    "Step 5: Run Analysis\n",
    "To run the analysis, specify the similarity strategy, the input HPO terms, and the collection name. The necessary data needs to be available in the notebook."
   ],
   "metadata": {
    "collapsed": false
   },
   "id": "56e4f1bf16940aa1"
  },
  {
   "cell_type": "code",
   "execution_count": 16,
   "outputs": [],
   "source": [
    "# Choose a similarity strategy\n",
    "# similarity_strategy = CosineSimilarity()  # or L2Distance(), etc. this must go out for other function\n",
    "\n",
    "notFullhpListOfOMIM619340 = [\n",
    " 'HP:0001522',\n",
    " 'HP:0010851',\n",
    " 'HP:0002643',\n",
    " 'HP:0032792',\n",
    " 'HP:0002187',\n",
    " 'HP:0000006',\n",
    " 'HP:0200134',\n",
    " 'HP:0011451',\n",
    " 'HP:0001789',\n",
    " 'HP:0011097']\n",
    "\n",
    "allfromomim619340v= [\"HP:0011097\",\t\n",
    "\"HP:0002187\",\t\n",
    "\"HP:0001518\",\t\n",
    "\"HP:0032792\",\t\n",
    "\"HP:0011451\",\t\n",
    "\"HP:0010851\",\t\n",
    "\"HP:0001789\",\t\n",
    "\"HP:0200134\",\t\n",
    "\"HP:0001522\",\n",
    "\"HP:0000006\",\n",
    "\"HP:0002643\"]\n",
    "\n",
    "\n"
   ],
   "metadata": {
    "collapsed": false,
    "ExecuteTime": {
     "end_time": "2024-01-04T16:27:50.458436Z",
     "start_time": "2024-01-04T16:27:50.340861Z"
    }
   },
   "id": "8c36c7b20caab48a"
  },
  {
   "cell_type": "code",
   "execution_count": 17,
   "outputs": [
    {
     "name": "stdout",
     "output_type": "stream",
     "text": [
      "0.021717071533203125\n"
     ]
    }
   ],
   "source": [
    "start = time.time()\n",
    "# Run analysis\n",
    "results = main_system.run_analysis(notFullhpListOfOMIM619340)\n",
    "end = time.time()\n",
    "print(end-start)"
   ],
   "metadata": {
    "collapsed": false,
    "ExecuteTime": {
     "end_time": "2024-01-04T16:27:50.461471Z",
     "start_time": "2024-01-04T16:27:50.342401Z"
    }
   },
   "id": "1630f3dc2c7830f7"
  },
  {
   "cell_type": "code",
   "execution_count": 18,
   "outputs": [
    {
     "data": {
      "text/plain": "[('OMIM:619340', 0.002229071920737624),\n ('OMIM:251280', 0.020075643435120583),\n ('OMIM:266100', 0.020780911669135094),\n ('OMIM:614558', 0.02147177793085575),\n ('OMIM:617929', 0.02174798771739006),\n ('OMIM:612164', 0.021880965679883957),\n ('OMIM:617105', 0.022684408351778984),\n ('OMIM:620033', 0.023259595036506653),\n ('OMIM:619881', 0.023755500093102455),\n ('OMIM:619913', 0.0238623209297657)]"
     },
     "execution_count": 18,
     "metadata": {},
     "output_type": "execute_result"
    }
   ],
   "source": [
    "results"
   ],
   "metadata": {
    "collapsed": false,
    "ExecuteTime": {
     "end_time": "2024-01-04T16:27:50.483943Z",
     "start_time": "2024-01-04T16:27:50.342532Z"
    }
   },
   "id": "247b510da87a6e2c"
  },
  {
   "cell_type": "code",
   "execution_count": 8,
   "outputs": [
    {
     "name": "stdout",
     "output_type": "stream",
     "text": [
      "0.779245138168335\n"
     ]
    }
   ],
   "source": [
    "start = time.time()\n",
    "new_results = main_system.run_analysis(allfromomim619340v, n_results=11700)\n",
    "end = time.time()\n",
    "print(end - start)\n"
   ],
   "metadata": {
    "collapsed": false,
    "ExecuteTime": {
     "end_time": "2023-12-18T12:38:40.623986Z",
     "start_time": "2023-12-18T12:38:39.840201Z"
    }
   },
   "id": "58a065b663bcc498"
  },
  {
   "cell_type": "code",
   "execution_count": 11,
   "outputs": [
    {
     "data": {
      "text/plain": "[Collection(name=hpo_embedding_collection_test),\n Collection(name=ont_oba),\n Collection(name=disease_average_embedding_test),\n Collection(name=ont_mp),\n Collection(name=hpoa),\n Collection(name=ont_hp),\n Collection(name=ont_fbbt),\n Collection(name=ont_uberon),\n Collection(name=ont_obi),\n Collection(name=HPOtoEmbeddings),\n Collection(name=ont_agro),\n Collection(name=default),\n Collection(name=HPtoEmbeddings),\n Collection(name=ont_cl),\n Collection(name=ont_chebi),\n Collection(name=ont_envo),\n Collection(name=ont_mondo),\n Collection(name=ont_po),\n Collection(name=DiseaseAvgEmbeddings),\n Collection(name=ont_go),\n Collection(name=avgDiseaseEmbeddings),\n Collection(name=ont_nbo),\n Collection(name=HpEmbeddings)]"
     },
     "execution_count": 11,
     "metadata": {},
     "output_type": "execute_result"
    }
   ],
   "source": [
    "main_system.db_manager.list_collections()"
   ],
   "metadata": {
    "collapsed": false,
    "ExecuteTime": {
     "end_time": "2023-12-19T10:39:32.477925Z",
     "start_time": "2023-12-19T10:39:32.428995Z"
    }
   },
   "id": "191789b43e590f79"
  },
  {
   "cell_type": "code",
   "execution_count": null,
   "outputs": [],
   "source": [],
   "metadata": {
    "collapsed": false
   },
   "id": "835dfaa59fa207c6"
  }
 ],
 "metadata": {
  "kernelspec": {
   "display_name": "Python 3",
   "language": "python",
   "name": "python3"
  },
  "language_info": {
   "codemirror_mode": {
    "name": "ipython",
    "version": 2
   },
   "file_extension": ".py",
   "mimetype": "text/x-python",
   "name": "python",
   "nbconvert_exporter": "python",
   "pygments_lexer": "ipython2",
   "version": "2.7.6"
  }
 },
 "nbformat": 4,
 "nbformat_minor": 5
}

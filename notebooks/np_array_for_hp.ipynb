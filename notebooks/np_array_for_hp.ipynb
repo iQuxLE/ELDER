{
 "cells": [
  {
   "cell_type": "code",
   "execution_count": 1,
   "id": "initial_id",
   "metadata": {
    "collapsed": true,
    "ExecuteTime": {
     "end_time": "2023-12-18T15:43:40.649635Z",
     "start_time": "2023-12-18T15:43:39.817243Z"
    }
   },
   "outputs": [],
   "source": [
    "from core.runner import Runner\n",
    "from utils.similarity_measures import SimilarityMeasures\n",
    "import time"
   ]
  },
  {
   "cell_type": "code",
   "execution_count": 2,
   "outputs": [
    {
     "name": "stdout",
     "output_type": "stream",
     "text": [
      "68.85227966308594\n"
     ]
    }
   ],
   "source": [
    "# Initialize with default or specific similarity measure\n",
    "start = time.time()\n",
    "main_system = Runner(similarity_measure=SimilarityMeasures.COSINE)\n",
    "end = time.time()\n",
    "print(end-start)"
   ],
   "metadata": {
    "collapsed": false,
    "ExecuteTime": {
     "end_time": "2023-12-18T15:44:49.513381Z",
     "start_time": "2023-12-18T15:43:40.653299Z"
    }
   },
   "id": "16616c9e6db80945"
  },
  {
   "cell_type": "code",
   "execution_count": 3,
   "outputs": [
    {
     "name": "stdout",
     "output_type": "stream",
     "text": [
      "Total time for upsert operations: 1903.3010892868042s\n",
      "1908.8659629821777\n"
     ]
    }
   ],
   "source": [
    "start = time.time()\n",
    "main_system.hp_service.process_data()\n",
    "end = time.time()\n",
    "print(end-start)"
   ],
   "metadata": {
    "collapsed": false,
    "ExecuteTime": {
     "end_time": "2023-12-18T16:16:38.597027Z",
     "start_time": "2023-12-18T15:44:49.517410Z"
    }
   },
   "id": "2c7f48b8edc36d5f"
  },
  {
   "cell_type": "code",
   "execution_count": 4,
   "outputs": [
    {
     "name": "stdout",
     "output_type": "stream",
     "text": [
      "WTF\n"
     ]
    }
   ],
   "source": [
    "print(\"WTF\")"
   ],
   "metadata": {
    "collapsed": false,
    "ExecuteTime": {
     "end_time": "2023-12-18T16:19:13.859951Z",
     "start_time": "2023-12-18T16:19:13.851279Z"
    }
   },
   "id": "38ec132b82e55f25"
  },
  {
   "cell_type": "code",
   "execution_count": null,
   "outputs": [],
   "source": [],
   "metadata": {
    "collapsed": false
   },
   "id": "6549cde8c9b95f83"
  }
 ],
 "metadata": {
  "kernelspec": {
   "display_name": "Python 3",
   "language": "python",
   "name": "python3"
  },
  "language_info": {
   "codemirror_mode": {
    "name": "ipython",
    "version": 2
   },
   "file_extension": ".py",
   "mimetype": "text/x-python",
   "name": "python",
   "nbconvert_exporter": "python",
   "pygments_lexer": "ipython2",
   "version": "2.7.6"
  }
 },
 "nbformat": 4,
 "nbformat_minor": 5
}

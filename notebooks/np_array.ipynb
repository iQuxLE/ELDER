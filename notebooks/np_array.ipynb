{
 "cells": [
  {
   "cell_type": "code",
   "execution_count": 1,
   "id": "initial_id",
   "metadata": {
    "collapsed": true,
    "ExecuteTime": {
     "end_time": "2023-12-18T15:32:55.547759Z",
     "start_time": "2023-12-18T15:32:54.834792Z"
    }
   },
   "outputs": [],
   "source": [
    "from core.runner import Runner\n",
    "from utils.similarity_measures import SimilarityMeasures\n",
    "import time"
   ]
  },
  {
   "cell_type": "code",
   "execution_count": 2,
   "outputs": [
    {
     "name": "stdout",
     "output_type": "stream",
     "text": [
      "56.67834711074829\n"
     ]
    }
   ],
   "source": [
    "# Initialize with default or specific similarity measure\n",
    "start = time.time()\n",
    "main_system = Runner(similarity_measure=SimilarityMeasures.COSINE)\n",
    "end = time.time()\n",
    "print(end-start)"
   ],
   "metadata": {
    "collapsed": false,
    "ExecuteTime": {
     "end_time": "2023-12-18T15:34:00.479049Z",
     "start_time": "2023-12-18T15:33:03.791834Z"
    }
   },
   "id": "a1290b6b338f71cc"
  },
  {
   "cell_type": "code",
   "execution_count": 3,
   "outputs": [
    {
     "name": "stdout",
     "output_type": "stream",
     "text": [
      "Total time for embedding calculations: 1.9133124351501465s\n",
      "Total time for upsert operations: 63.130878925323486s\n",
      "65.0802743434906\n"
     ]
    }
   ],
   "source": [
    "start = time.time()\n",
    "main_system.disease_service.process_data()\n",
    "end = time.time()\n",
    "print(end-start)"
   ],
   "metadata": {
    "collapsed": false,
    "ExecuteTime": {
     "end_time": "2023-12-18T15:35:07.796827Z",
     "start_time": "2023-12-18T15:34:02.741844Z"
    }
   },
   "id": "f1ce5c2b2651f565"
  },
  {
   "cell_type": "code",
   "execution_count": 4,
   "outputs": [
    {
     "name": "stdout",
     "output_type": "stream",
     "text": [
      "Total time for upsert operations: 2169.3550333976746s\n",
      "2169.4611599445343\n"
     ]
    }
   ],
   "source": [
    "start = time.time()\n",
    "main_system.hp_service.process_data()\n",
    "end = time.time()\n",
    "print(end-start)"
   ],
   "metadata": {
    "collapsed": false,
    "ExecuteTime": {
     "end_time": "2023-12-18T16:16:33.725648Z",
     "start_time": "2023-12-18T15:40:24.246537Z"
    }
   },
   "id": "1a9256d142fbb79c"
  },
  {
   "cell_type": "code",
   "execution_count": null,
   "outputs": [],
   "source": [],
   "metadata": {
    "collapsed": false
   },
   "id": "9d276127c7611235"
  }
 ],
 "metadata": {
  "kernelspec": {
   "display_name": "Python 3",
   "language": "python",
   "name": "python3"
  },
  "language_info": {
   "codemirror_mode": {
    "name": "ipython",
    "version": 2
   },
   "file_extension": ".py",
   "mimetype": "text/x-python",
   "name": "python",
   "nbconvert_exporter": "python",
   "pygments_lexer": "ipython2",
   "version": "2.7.6"
  }
 },
 "nbformat": 4,
 "nbformat_minor": 5
}

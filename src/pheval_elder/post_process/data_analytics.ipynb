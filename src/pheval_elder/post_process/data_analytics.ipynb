{
 "cells": [
  {
   "cell_type": "code",
   "execution_count": 2,
   "id": "initial_id",
   "metadata": {
    "collapsed": true,
    "ExecuteTime": {
     "end_time": "2024-03-01T22:32:13.796158Z",
     "start_time": "2024-03-01T22:31:58.111825Z"
    }
   },
   "outputs": [
    {
     "name": "stderr",
     "output_type": "stream",
     "text": [
      "Computing closures: 100%|██████████| 16798/16798 [00:00<00:00, 155387.42it/s]\n"
     ]
    }
   ],
   "source": [
    "import os\n",
    "\n",
    "from pheval_exomiser.post_process.disease_data_analyzer import DiseaseDataAnalyzer\n",
    "analyzer = DiseaseDataAnalyzer(\"/Users/carlo/Downloads/pheval.exomiser/Desktop_exomiser_results_vs_Desktop_elder_results-disease_rank_comparison.tsv\")\n"
   ]
  },
  {
   "cell_type": "code",
   "execution_count": 2,
   "outputs": [],
   "source": [
    "unique_disease = analyzer.list_all_diseases()"
   ],
   "metadata": {
    "collapsed": false,
    "ExecuteTime": {
     "end_time": "2024-01-24T16:30:14.427264Z",
     "start_time": "2024-01-24T16:30:14.422117Z"
    }
   },
   "id": "db4b9a18850accab"
  },
  {
   "cell_type": "code",
   "execution_count": null,
   "outputs": [],
   "source": [
    "unique_disease"
   ],
   "metadata": {
    "collapsed": false,
    "ExecuteTime": {
     "start_time": "2024-01-24T16:07:55.331404Z"
    }
   },
   "id": "44ea5ead9ae13ed"
  },
  {
   "cell_type": "code",
   "execution_count": 3,
   "outputs": [
    {
     "data": {
      "text/plain": "263"
     },
     "execution_count": 3,
     "metadata": {},
     "output_type": "execute_result"
    }
   ],
   "source": [
    "len(unique_disease)"
   ],
   "metadata": {
    "collapsed": false,
    "ExecuteTime": {
     "end_time": "2024-01-24T16:14:06.897068Z",
     "start_time": "2024-01-24T16:14:06.866163Z"
    }
   },
   "id": "179a4e881c90f07f"
  },
  {
   "cell_type": "code",
   "execution_count": 3,
   "outputs": [
    {
     "data": {
      "text/plain": "{'OMIM:246200': 'Falik_Zaccai-2014-INSR-ISR1.json',\n 'OMIM:616907': 'Wang-2016-CAPN1-SAL-584-005.json',\n 'OMIM:606889': 'Giau-2018-PSEN2-proband.json',\n 'OMIM:617527': 'Hall-2017-PLAA-Family_D-Case_VIII-1.json',\n 'OMIM:610759': 'Infante-2017-SMC3-patient_1.json',\n 'OMIM:232700': 'Jagadisan-2017-PYGL-2-year_5-month_old_child.json',\n 'OMIM:137920': 'Kato-2018-HNF1B-patient.json',\n 'OMIM:612164': 'Li-2018-STXBP1-P1.json',\n 'OMIM:177170': 'Luo-2016-COMP-II-1.json',\n 'OMIM:616638': 'Moosa-1799-MTOR-index.json',\n 'OMIM:131300': 'Mwasamwaja-2018-TGFB1-patient.json',\n 'OMIM:131100': 'Ning-2015-MEN1-III-3.json',\n 'OMIM:606693': 'Noch-2017-ATP13A2-Case_1.json',\n 'OMIM:616247': 'Pipilas-2016-CALM1-Case_2.json',\n 'OMIM:130000': 'Ritelli-2013-COL5A1-AN_002501.json',\n 'OMIM:618000': 'Ritelli-2019-AEBP1-AN_006205.json',\n 'OMIM:617297': 'Smith-2017-ACP4-Family_1-IV_3.json',\n 'OMIM:614833': 'Stouffs-2018-RTTN-Patient_3.json',\n 'OMIM:268310': 'Tamhankar-2014-ROR2-Patient_2.json',\n 'OMIM:159550': 'Tesi-2017-SAMD9L-II-4.json',\n 'OMIM:617425': 'Volpi-2017-EXTL3-Patient_3.json',\n 'OMIM:148820': 'Wollnik-2003-PAX3-proposita.json',\n 'OMIM:250410': 'Xu-2017-CWC27-II-4.json',\n 'OMIM:305100': 'Zhang-2009-EDA-proband.json'}"
     },
     "execution_count": 3,
     "metadata": {},
     "output_type": "execute_result"
    }
   ],
   "source": [
    "x = analyzer.diseases_ranked_higher_in_elder_top_10()\n",
    "x"
   ],
   "metadata": {
    "collapsed": false,
    "ExecuteTime": {
     "end_time": "2024-01-24T16:30:16.995772Z",
     "start_time": "2024-01-24T16:30:16.992830Z"
    }
   },
   "id": "78ad5a7b22d505e6"
  },
  {
   "cell_type": "code",
   "execution_count": 4,
   "outputs": [
    {
     "data": {
      "text/plain": "['OMIM:231670',\n 'OMIM:209900',\n 'OMIM:616354',\n 'OMIM:305400',\n 'OMIM:608776',\n 'OMIM:617402',\n 'OMIM:193700',\n 'OMIM:617560',\n 'OMIM:601869',\n 'OMIM:602400',\n 'OMIM:615502',\n 'OMIM:615981',\n 'OMIM:616900',\n 'OMIM:150250',\n 'OMIM:601553',\n 'OMIM:159550',\n 'OMIM:603553',\n 'OMIM:269150',\n 'OMIM:162000',\n 'OMIM:154700',\n 'OMIM:139210',\n 'OMIM:241850',\n 'OMIM:608013',\n 'OMIM:133540',\n 'OMIM:216400',\n 'OMIM:161200',\n 'OMIM:604187',\n 'OMIM:234200',\n 'OMIM:266265',\n 'OMIM:214800',\n 'OMIM:606324',\n 'OMIM:190350',\n 'OMIM:600373',\n 'OMIM:148600',\n 'OMIM:257220',\n 'OMIM:613990',\n 'OMIM:601977',\n 'OMIM:142946',\n 'OMIM:616975',\n 'OMIM:616907',\n 'OMIM:306955',\n 'OMIM:236200',\n 'OMIM:618089',\n 'OMIM:212050',\n 'OMIM:102500',\n 'OMIM:617425',\n 'OMIM:300867',\n 'OMIM:617146',\n 'OMIM:604213',\n 'OMIM:609192',\n 'OMIM:615516',\n 'OMIM:108300',\n 'OMIM:600974',\n 'OMIM:270420',\n 'OMIM:102700',\n 'OMIM:252500',\n 'OMIM:609528',\n 'OMIM:610915',\n 'OMIM:617730',\n 'OMIM:208920',\n 'OMIM:602875',\n 'OMIM:616868',\n 'OMIM:616829',\n 'OMIM:226700',\n 'OMIM:301040',\n 'OMIM:259440',\n 'OMIM:102370',\n 'OMIM:614931',\n 'OMIM:222470',\n 'OMIM:260000',\n 'OMIM:602849',\n 'OMIM:615220',\n 'OMIM:617516',\n 'OMIM:616878',\n 'OMIM:107480',\n 'OMIM:302350',\n 'OMIM:613684',\n 'OMIM:614104',\n 'OMIM:615066',\n 'OMIM:130600',\n 'OMIM:601859',\n 'OMIM:610968',\n 'OMIM:122470',\n 'OMIM:616974',\n 'OMIM:160800',\n 'OMIM:616395',\n 'OMIM:609285',\n 'OMIM:261100',\n 'OMIM:161800',\n 'OMIM:101200',\n 'OMIM:191900',\n 'OMIM:256300',\n 'OMIM:115150',\n 'OMIM:608716',\n 'OMIM:105120',\n 'OMIM:275400',\n 'OMIM:616249',\n 'OMIM:256540',\n 'OMIM:613750',\n 'OMIM:216550',\n 'OMIM:118450',\n 'OMIM:277700',\n 'OMIM:245000',\n 'OMIM:230740',\n 'OMIM:174300',\n 'OMIM:601776',\n 'OMIM:606854',\n 'OMIM:613717',\n 'OMIM:228600',\n 'OMIM:163800',\n 'OMIM:611431',\n 'OMIM:223800',\n 'OMIM:200150',\n 'OMIM:605282',\n 'OMIM:159950',\n 'OMIM:616224',\n 'OMIM:617616',\n 'OMIM:615688',\n 'OMIM:602342',\n 'OMIM:613268',\n 'OMIM:277600',\n 'OMIM:309000',\n 'OMIM:604173',\n 'OMIM:116920',\n 'OMIM:270400',\n 'OMIM:230400',\n 'OMIM:182290',\n 'OMIM:304110',\n 'OMIM:220400',\n 'OMIM:617403',\n 'OMIM:617622',\n 'OMIM:612653',\n 'OMIM:604841',\n 'OMIM:300352',\n 'OMIM:130010',\n 'OMIM:616516',\n 'OMIM:215700',\n 'OMIM:177170',\n 'OMIM:609637',\n 'OMIM:250410',\n 'OMIM:609260',\n 'OMIM:146000',\n 'OMIM:230650',\n 'OMIM:605130',\n 'OMIM:609942',\n 'OMIM:203290',\n 'OMIM:105650',\n 'OMIM:613454',\n 'OMIM:215470',\n 'OMIM:601414',\n 'OMIM:121050',\n 'OMIM:227645',\n 'OMIM:187900']"
     },
     "execution_count": 4,
     "metadata": {},
     "output_type": "execute_result"
    }
   ],
   "source": [
    "analyzer.diseases_ranked_higher_in_elder()"
   ],
   "metadata": {
    "collapsed": false,
    "ExecuteTime": {
     "end_time": "2024-01-24T16:30:18.686145Z",
     "start_time": "2024-01-24T16:30:18.681112Z"
    }
   },
   "id": "ebc5ea09241a21e9"
  },
  {
   "cell_type": "code",
   "execution_count": 6,
   "outputs": [
    {
     "ename": "FileNotFoundError",
     "evalue": "[Errno 2] No such file or directory: 'Falik_Zaccai-2014-INSR-ISR1.json'",
     "output_type": "error",
     "traceback": [
      "\u001B[0;31m---------------------------------------------------------------------------\u001B[0m",
      "\u001B[0;31mFileNotFoundError\u001B[0m                         Traceback (most recent call last)",
      "Cell \u001B[0;32mIn[6], line 1\u001B[0m\n\u001B[0;32m----> 1\u001B[0m df \u001B[38;5;241m=\u001B[39m \u001B[43manalyzer\u001B[49m\u001B[38;5;241;43m.\u001B[39;49m\u001B[43mcompare_phenopackets_with_expected2\u001B[49m\u001B[43m(\u001B[49m\u001B[43mx\u001B[49m\u001B[43m)\u001B[49m\n",
      "File \u001B[0;32m~/Downloads/pheval.exomiser/src/pheval_exomiser/post_process/disease_data_analyzer.py:54\u001B[0m, in \u001B[0;36mDiseaseDataAnalyzer.compare_phenopackets_with_expected2\u001B[0;34m(self, diseases)\u001B[0m\n\u001B[1;32m     51\u001B[0m \u001B[38;5;28;01mif\u001B[39;00m \u001B[38;5;129;01mnot\u001B[39;00m path:\n\u001B[1;32m     52\u001B[0m     \u001B[38;5;28;01mcontinue\u001B[39;00m\n\u001B[0;32m---> 54\u001B[0m observed_phenotypes \u001B[38;5;241m=\u001B[39m \u001B[38;5;28;43mself\u001B[39;49m\u001B[38;5;241;43m.\u001B[39;49m\u001B[43mget_phenotypes_from_phenopacket\u001B[49m\u001B[43m(\u001B[49m\u001B[43mpath\u001B[49m\u001B[43m)\u001B[49m\n\u001B[1;32m     55\u001B[0m expected_phenotypes \u001B[38;5;241m=\u001B[39m \u001B[38;5;28mself\u001B[39m\u001B[38;5;241m.\u001B[39m_disease_to_hps_from_omim\u001B[38;5;241m.\u001B[39mget(disease, [])\n\u001B[1;32m     57\u001B[0m \u001B[38;5;28;01mfor\u001B[39;00m phenotype \u001B[38;5;129;01min\u001B[39;00m observed_phenotypes:\n",
      "File \u001B[0;32m~/Downloads/pheval.exomiser/src/pheval_exomiser/post_process/disease_data_analyzer.py:191\u001B[0m, in \u001B[0;36mDiseaseDataAnalyzer.get_phenotypes_from_phenopacket\u001B[0;34m(self, phenopacket_path)\u001B[0m\n\u001B[1;32m    190\u001B[0m \u001B[38;5;28;01mdef\u001B[39;00m \u001B[38;5;21mget_phenotypes_from_phenopacket\u001B[39m(\u001B[38;5;28mself\u001B[39m, phenopacket_path: \u001B[38;5;28mstr\u001B[39m):\n\u001B[0;32m--> 191\u001B[0m     phenopacket \u001B[38;5;241m=\u001B[39m \u001B[38;5;28;43mself\u001B[39;49m\u001B[38;5;241;43m.\u001B[39;49m\u001B[43m_read_phenopacket\u001B[49m\u001B[43m(\u001B[49m\u001B[43mPath\u001B[49m\u001B[43m(\u001B[49m\u001B[43mphenopacket_path\u001B[49m\u001B[43m)\u001B[49m\u001B[43m)\u001B[49m\n\u001B[1;32m    192\u001B[0m     phenopacket_util \u001B[38;5;241m=\u001B[39m PhenopacketUtil(phenopacket)\n\u001B[1;32m    193\u001B[0m     \u001B[38;5;28;01mreturn\u001B[39;00m [feature\u001B[38;5;241m.\u001B[39mtype\u001B[38;5;241m.\u001B[39mid \u001B[38;5;28;01mfor\u001B[39;00m feature \u001B[38;5;129;01min\u001B[39;00m phenopacket_util\u001B[38;5;241m.\u001B[39mobserved_phenotypic_features()]\n",
      "File \u001B[0;32m~/Downloads/pheval.exomiser/src/pheval_exomiser/post_process/disease_data_analyzer.py:160\u001B[0m, in \u001B[0;36mDiseaseDataAnalyzer._read_phenopacket\u001B[0;34m(self, file_path)\u001B[0m\n\u001B[1;32m    159\u001B[0m \u001B[38;5;28;01mdef\u001B[39;00m \u001B[38;5;21m_read_phenopacket\u001B[39m(\u001B[38;5;28mself\u001B[39m, file_path: Path):\n\u001B[0;32m--> 160\u001B[0m     \u001B[38;5;28;01mwith\u001B[39;00m \u001B[38;5;28;43mopen\u001B[39;49m\u001B[43m(\u001B[49m\u001B[43mfile_path\u001B[49m\u001B[43m,\u001B[49m\u001B[43m \u001B[49m\u001B[38;5;124;43m'\u001B[39;49m\u001B[38;5;124;43mr\u001B[39;49m\u001B[38;5;124;43m'\u001B[39;49m\u001B[43m)\u001B[49m \u001B[38;5;28;01mas\u001B[39;00m file:\n\u001B[1;32m    161\u001B[0m         \u001B[38;5;28;01mreturn\u001B[39;00m json\u001B[38;5;241m.\u001B[39mload(file)\n",
      "\u001B[0;31mFileNotFoundError\u001B[0m: [Errno 2] No such file or directory: 'Falik_Zaccai-2014-INSR-ISR1.json'"
     ]
    }
   ],
   "source": [
    "df = analyzer.compare_phenopackets_with_expected2(x)"
   ],
   "metadata": {
    "collapsed": false,
    "ExecuteTime": {
     "end_time": "2024-01-24T16:30:23.820029Z",
     "start_time": "2024-01-24T16:30:23.793920Z"
    }
   },
   "id": "77b2e2830a5eccaa"
  },
  {
   "cell_type": "code",
   "execution_count": 3,
   "outputs": [
    {
     "data": {
      "text/plain": "[]"
     },
     "execution_count": 3,
     "metadata": {},
     "output_type": "execute_result"
    }
   ],
   "source": [
    "analyzer.process_phenopackets(\"/Users/carlo/Carlo/pheval/pheval/corpora/lirical/default/phenopackets/Baldi-2018-NKX6-2-F6,II-2.json\")"
   ],
   "metadata": {
    "collapsed": false,
    "ExecuteTime": {
     "end_time": "2024-03-01T22:32:43.033981Z",
     "start_time": "2024-03-01T22:32:43.031485Z"
    }
   },
   "id": "5288741d074f162f"
  },
  {
   "cell_type": "code",
   "execution_count": 5,
   "outputs": [],
   "source": [
    "import json\n",
    "def _read_phenopacket(file_path):\n",
    "    with open(file_path, 'r') as file:\n",
    "        return json.load(file)"
   ],
   "metadata": {
    "collapsed": false,
    "ExecuteTime": {
     "end_time": "2024-03-01T22:35:46.818785Z",
     "start_time": "2024-03-01T22:35:46.813673Z"
    }
   },
   "id": "81f0955ba14a6e6c"
  },
  {
   "cell_type": "code",
   "execution_count": 9,
   "outputs": [],
   "source": [
    "from pheval.utils.phenopacket_utils import PhenopacketUtil\n",
    "data = _read_phenopacket(\"/Users/carlo/Carlo/pheval/pheval/corpora/lirical/default/phenopackets/Baldi-2018-NKX6-2-F6,II-2.json\")\n",
    "\n"
   ],
   "metadata": {
    "collapsed": false,
    "ExecuteTime": {
     "end_time": "2024-03-02T09:37:37.477359Z",
     "start_time": "2024-03-02T09:37:37.470490Z"
    }
   },
   "id": "b2744edf65be726b"
  },
  {
   "cell_type": "code",
   "execution_count": 10,
   "outputs": [
    {
     "data": {
      "text/plain": "{'id': 'PMID:29388673-Baldi-2018-NKX6-2-F6,II-2',\n 'subject': {'id': 'F6,II-2',\n  'timeAtLastEncounter': {'age': {'iso8601duration': 'P12Y6M'}},\n  'sex': 'FEMALE',\n  'taxonomy': {'id': 'NCBITaxon:9606', 'label': 'Homo sapiens'}},\n 'phenotypicFeatures': [{'type': {'id': 'HP:0002415',\n    'label': 'Leukodystrophy'},\n   'evidence': [{'evidenceCode': {'id': 'ECO:0000033',\n      'label': 'author statement supported by traceable reference'},\n     'reference': {'id': 'PMID:29388673',\n      'description': 'NM_177400.2:c.608G>A,NP_796374.1:p.(Trp203Ter)'}}]},\n  {'type': {'id': 'HP:0001238', 'label': 'Slender finger'},\n   'evidence': [{'evidenceCode': {'id': 'ECO:0000033',\n      'label': 'author statement supported by traceable reference'},\n     'reference': {'id': 'PMID:29388673',\n      'description': 'NM_177400.2:c.608G>A,NP_796374.1:p.(Trp203Ter)'}}]},\n  {'type': {'id': 'HP:0001285', 'label': 'Spastic tetraparesis'},\n   'evidence': [{'evidenceCode': {'id': 'ECO:0000033',\n      'label': 'author statement supported by traceable reference'},\n     'reference': {'id': 'PMID:29388673',\n      'description': 'NM_177400.2:c.608G>A,NP_796374.1:p.(Trp203Ter)'}}]},\n  {'type': {'id': 'HP:0000486', 'label': 'Strabismus'},\n   'evidence': [{'evidenceCode': {'id': 'ECO:0000033',\n      'label': 'author statement supported by traceable reference'},\n     'reference': {'id': 'PMID:29388673',\n      'description': 'NM_177400.2:c.608G>A,NP_796374.1:p.(Trp203Ter)'}}]},\n  {'type': {'id': 'HP:0001263', 'label': 'Global developmental delay'},\n   'evidence': [{'evidenceCode': {'id': 'ECO:0000033',\n      'label': 'author statement supported by traceable reference'},\n     'reference': {'id': 'PMID:29388673',\n      'description': 'NM_177400.2:c.608G>A,NP_796374.1:p.(Trp203Ter)'}}]},\n  {'type': {'id': 'HP:0002650', 'label': 'Scoliosis'},\n   'evidence': [{'evidenceCode': {'id': 'ECO:0000033',\n      'label': 'author statement supported by traceable reference'},\n     'reference': {'id': 'PMID:29388673',\n      'description': 'NM_177400.2:c.608G>A,NP_796374.1:p.(Trp203Ter)'}}]},\n  {'type': {'id': 'HP:0001347', 'label': 'Hyperreflexia'},\n   'evidence': [{'evidenceCode': {'id': 'ECO:0000033',\n      'label': 'author statement supported by traceable reference'},\n     'reference': {'id': 'PMID:29388673',\n      'description': 'NM_177400.2:c.608G>A,NP_796374.1:p.(Trp203Ter)'}}]},\n  {'type': {'id': 'HP:0000212', 'label': 'Gingival overgrowth'},\n   'evidence': [{'evidenceCode': {'id': 'ECO:0000033',\n      'label': 'author statement supported by traceable reference'},\n     'reference': {'id': 'PMID:29388673',\n      'description': 'NM_177400.2:c.608G>A,NP_796374.1:p.(Trp203Ter)'}}]},\n  {'type': {'id': 'HP:0000276', 'label': 'Long face'},\n   'evidence': [{'evidenceCode': {'id': 'ECO:0000033',\n      'label': 'author statement supported by traceable reference'},\n     'reference': {'id': 'PMID:29388673',\n      'description': 'NM_177400.2:c.608G>A,NP_796374.1:p.(Trp203Ter)'}}]},\n  {'type': {'id': 'HP:0000365', 'label': 'Hearing impairment'},\n   'excluded': True,\n   'evidence': [{'evidenceCode': {'id': 'ECO:0000033',\n      'label': 'author statement supported by traceable reference'},\n     'reference': {'id': 'PMID:29388673',\n      'description': 'NM_177400.2:c.608G>A,NP_796374.1:p.(Trp203Ter)'}}]},\n  {'type': {'id': 'HP:0012444', 'label': 'Brain atrophy'},\n   'evidence': [{'evidenceCode': {'id': 'ECO:0000033',\n      'label': 'author statement supported by traceable reference'},\n     'reference': {'id': 'PMID:29388673',\n      'description': 'NM_177400.2:c.608G>A,NP_796374.1:p.(Trp203Ter)'}}]},\n  {'type': {'id': 'HP:0000218', 'label': 'High palate'},\n   'evidence': [{'evidenceCode': {'id': 'ECO:0000033',\n      'label': 'author statement supported by traceable reference'},\n     'reference': {'id': 'PMID:29388673',\n      'description': 'NM_177400.2:c.608G>A,NP_796374.1:p.(Trp203Ter)'}}]},\n  {'type': {'id': 'HP:0003429', 'label': 'CNS hypomyelination'},\n   'evidence': [{'evidenceCode': {'id': 'ECO:0000033',\n      'label': 'author statement supported by traceable reference'},\n     'reference': {'id': 'PMID:29388673',\n      'description': 'NM_177400.2:c.608G>A,NP_796374.1:p.(Trp203Ter)'}}]},\n  {'type': {'id': 'HP:0002500',\n    'label': 'Abnormality of the cerebral white matter'},\n   'evidence': [{'evidenceCode': {'id': 'ECO:0000033',\n      'label': 'author statement supported by traceable reference'},\n     'reference': {'id': 'PMID:29388673',\n      'description': 'NM_177400.2:c.608G>A,NP_796374.1:p.(Trp203Ter)'}}]},\n  {'type': {'id': 'HP:0001548', 'label': 'Overgrowth'},\n   'evidence': [{'evidenceCode': {'id': 'ECO:0000033',\n      'label': 'author statement supported by traceable reference'},\n     'reference': {'id': 'PMID:29388673',\n      'description': 'NM_177400.2:c.608G>A,NP_796374.1:p.(Trp203Ter)'}}]},\n  {'type': {'id': 'HP:0000666', 'label': 'Horizontal nystagmus'},\n   'evidence': [{'evidenceCode': {'id': 'ECO:0000033',\n      'label': 'author statement supported by traceable reference'},\n     'reference': {'id': 'PMID:29388673',\n      'description': 'NM_177400.2:c.608G>A,NP_796374.1:p.(Trp203Ter)'}}]},\n  {'type': {'id': 'HP:0001321', 'label': 'Cerebellar hypoplasia'},\n   'evidence': [{'evidenceCode': {'id': 'ECO:0000033',\n      'label': 'author statement supported by traceable reference'},\n     'reference': {'id': 'PMID:29388673',\n      'description': 'NM_177400.2:c.608G>A,NP_796374.1:p.(Trp203Ter)'}}]},\n  {'type': {'id': 'HP:0000678', 'label': 'Dental crowding'},\n   'evidence': [{'evidenceCode': {'id': 'ECO:0000033',\n      'label': 'author statement supported by traceable reference'},\n     'reference': {'id': 'PMID:29388673',\n      'description': 'NM_177400.2:c.608G>A,NP_796374.1:p.(Trp203Ter)'}}]},\n  {'type': {'id': 'HP:0001332', 'label': 'Dystonia'},\n   'evidence': [{'evidenceCode': {'id': 'ECO:0000033',\n      'label': 'author statement supported by traceable reference'},\n     'reference': {'id': 'PMID:29388673',\n      'description': 'NM_177400.2:c.608G>A,NP_796374.1:p.(Trp203Ter)'}}]},\n  {'type': {'id': 'HP:0006808', 'label': 'Cerebral hypomyelination'},\n   'evidence': [{'evidenceCode': {'id': 'ECO:0000033',\n      'label': 'author statement supported by traceable reference'},\n     'reference': {'id': 'PMID:29388673',\n      'description': 'NM_177400.2:c.608G>A,NP_796374.1:p.(Trp203Ter)'}}]},\n  {'type': {'id': 'HP:0007034', 'label': 'Generalized hyperreflexia'},\n   'evidence': [{'evidenceCode': {'id': 'ECO:0000033',\n      'label': 'author statement supported by traceable reference'},\n     'reference': {'id': 'PMID:29388673',\n      'description': 'NM_177400.2:c.608G>A,NP_796374.1:p.(Trp203Ter)'}}]},\n  {'type': {'id': 'HP:0002079', 'label': 'Hypoplasia of the corpus callosum'},\n   'evidence': [{'evidenceCode': {'id': 'ECO:0000033',\n      'label': 'author statement supported by traceable reference'},\n     'reference': {'id': 'PMID:29388673',\n      'description': 'NM_177400.2:c.608G>A,NP_796374.1:p.(Trp203Ter)'}}]},\n  {'type': {'id': 'HP:0002828', 'label': 'Multiple joint contractures'},\n   'evidence': [{'evidenceCode': {'id': 'ECO:0000033',\n      'label': 'author statement supported by traceable reference'},\n     'reference': {'id': 'PMID:29388673',\n      'description': 'NM_177400.2:c.608G>A,NP_796374.1:p.(Trp203Ter)'}}]},\n  {'type': {'id': 'HP:0001290', 'label': 'Generalized hypotonia'},\n   'evidence': [{'evidenceCode': {'id': 'ECO:0000033',\n      'label': 'author statement supported by traceable reference'},\n     'reference': {'id': 'PMID:29388673',\n      'description': 'NM_177400.2:c.608G>A,NP_796374.1:p.(Trp203Ter)'}}]}],\n 'interpretations': [{'id': 'PMID:29388673-Baldi-2018-NKX6-2-F6,II-2',\n   'progressStatus': 'SOLVED',\n   'diagnosis': {'disease': {'id': 'OMIM:617560',\n     'label': 'Spastic ataxia 8, autosomal recessive, with hypomyelinating leukodystrophy'},\n    'genomicInterpretations': [{'subjectOrBiosampleId': 'F6,II-2',\n      'interpretationStatus': 'CAUSATIVE',\n      'variantInterpretation': {'variationDescriptor': {'id': '10-134598646-C-T',\n        'geneContext': {'valueId': 'ENSG00000148826',\n         'symbol': 'NKX6-2',\n         'alternateIds': ['HGNC:19321',\n          'entrez:84504',\n          'ensembl:ENSG00000148826',\n          'symbol:NKX6-2']},\n        'vcfRecord': {'genomeAssembly': 'GRCh37',\n         'chrom': '10',\n         'pos': '134598646',\n         'ref': 'C',\n         'alt': 'T'},\n        'allelicState': {'id': 'GENO:0000136', 'label': 'homozygous'}}}}]}}],\n 'metaData': {'created': '1970-01-01T00:00:00Z',\n  'createdBy': 'Hpo Case Annotator : 1.0.14-SNAPSHOT',\n  'submittedBy': 'UNC:biocuration',\n  'resources': [{'id': 'hp',\n    'name': 'human phenotype ontology',\n    'url': 'http://purl.obolibrary.org/obo/hp.owl',\n    'version': '2018-03-08',\n    'namespacePrefix': 'HP',\n    'iriPrefix': 'http://purl.obolibrary.org/obo/HP_'},\n   {'id': 'pato',\n    'name': 'Phenotype And Trait Ontology',\n    'url': 'http://purl.obolibrary.org/obo/pato.owl',\n    'version': '2018-03-28',\n    'namespacePrefix': 'PATO',\n    'iriPrefix': 'http://purl.obolibrary.org/obo/PATO_'},\n   {'id': 'geno',\n    'name': 'Genotype Ontology',\n    'url': 'http://purl.obolibrary.org/obo/geno.owl',\n    'version': '19-03-2018',\n    'namespacePrefix': 'GENO',\n    'iriPrefix': 'http://purl.obolibrary.org/obo/GENO_'},\n   {'id': 'ncbitaxon',\n    'name': 'NCBI organismal classification',\n    'url': 'http://purl.obolibrary.org/obo/ncbitaxon.owl',\n    'version': '2018-03-02',\n    'namespacePrefix': 'NCBITaxon',\n    'iriPrefix': 'http://purl.obolibrary.org/obo/NCBITaxon_'},\n   {'id': 'eco',\n    'name': 'Evidence and Conclusion Ontology',\n    'url': 'http://purl.obolibrary.org/obo/eco.owl',\n    'version': '2018-11-10',\n    'namespacePrefix': 'ECO',\n    'iriPrefix': 'http://purl.obolibrary.org/obo/ECO_'},\n   {'id': 'omim',\n    'name': 'Online Mendelian Inheritance in Man',\n    'url': 'https://www.omim.org',\n    'version': '2018-03-08',\n    'namespacePrefix': 'OMIM',\n    'iriPrefix': 'https://omim.org/entry/'}],\n  'phenopacketSchemaVersion': '2.0.0'}}"
     },
     "execution_count": 10,
     "metadata": {},
     "output_type": "execute_result"
    }
   ],
   "source": [
    "data"
   ],
   "metadata": {
    "collapsed": false,
    "ExecuteTime": {
     "end_time": "2024-03-02T09:37:42.307951Z",
     "start_time": "2024-03-02T09:37:42.301511Z"
    }
   },
   "id": "820ed9484892b407"
  },
  {
   "cell_type": "code",
   "execution_count": 11,
   "outputs": [],
   "source": [
    "phenotypic_features = []\n",
    "\n",
    "    "
   ],
   "metadata": {
    "collapsed": false,
    "ExecuteTime": {
     "end_time": "2024-03-02T09:38:11.231609Z",
     "start_time": "2024-03-02T09:38:11.226940Z"
    }
   },
   "id": "4d2ef9b99d76e9bd"
  },
  {
   "cell_type": "code",
   "execution_count": 12,
   "outputs": [],
   "source": [
    "phenopacket_util = PhenopacketUtil(data)\n"
   ],
   "metadata": {
    "collapsed": false,
    "ExecuteTime": {
     "end_time": "2024-03-02T09:38:18.546409Z",
     "start_time": "2024-03-02T09:38:18.539900Z"
    }
   },
   "id": "1223c74b1a04b466"
  },
  {
   "cell_type": "code",
   "execution_count": 13,
   "outputs": [
    {
     "data": {
      "text/plain": "<pheval.utils.phenopacket_utils.PhenopacketUtil at 0x28a328890>"
     },
     "execution_count": 13,
     "metadata": {},
     "output_type": "execute_result"
    }
   ],
   "source": [
    "phenopacket_util"
   ],
   "metadata": {
    "collapsed": false,
    "ExecuteTime": {
     "end_time": "2024-03-02T09:38:25.744254Z",
     "start_time": "2024-03-02T09:38:25.738491Z"
    }
   },
   "id": "8e8d42fb4e2ab4e0"
  },
  {
   "cell_type": "code",
   "execution_count": 35,
   "outputs": [
    {
     "name": "stdout",
     "output_type": "stream",
     "text": [
      "Processing 385 files...\n"
     ]
    },
    {
     "name": "stderr",
     "output_type": "stream",
     "text": [
      "  0%|          | 0/385 [00:00<?, ?it/s]"
     ]
    },
    {
     "name": "stdout",
     "output_type": "stream",
     "text": [
      "Processing file 1: /Users/carlo/Carlo/pheval/pheval/corpora/lirical/default/phenopackets/Abdul_Wahab-2016-GCDH-Patient_5.json\n",
      "current file name  = Abdul_Wahab-2016-GCDH-Patient_5\n"
     ]
    },
    {
     "name": "stderr",
     "output_type": "stream",
     "text": [
      "\n"
     ]
    },
    {
     "ename": "TypeError",
     "evalue": "unsupported operand type(s) for +: 'RepeatedCompositeFieldContainer' and 'str'",
     "output_type": "error",
     "traceback": [
      "\u001B[0;31m---------------------------------------------------------------------------\u001B[0m",
      "\u001B[0;31mTypeError\u001B[0m                                 Traceback (most recent call last)",
      "Cell \u001B[0;32mIn[35], line 27\u001B[0m\n\u001B[1;32m     23\u001B[0m observed_phenotypes \u001B[38;5;241m=\u001B[39m phenopacket_util\u001B[38;5;241m.\u001B[39mobserved_phenotypic_features()\n\u001B[1;32m     24\u001B[0m observed_phenotypes_hpo_ids \u001B[38;5;241m=\u001B[39m [\n\u001B[1;32m     25\u001B[0m     observed_phenotype\u001B[38;5;241m.\u001B[39mtype\u001B[38;5;241m.\u001B[39mid \u001B[38;5;28;01mfor\u001B[39;00m observed_phenotype \u001B[38;5;129;01min\u001B[39;00m observed_phenotypes\n\u001B[1;32m     26\u001B[0m ]\n\u001B[0;32m---> 27\u001B[0m \u001B[43msave_results\u001B[49m\u001B[43m(\u001B[49m\u001B[38;5;124;43m\"\u001B[39;49m\u001B[38;5;124;43m/Users/carlo/Downloads/pheval.exomiser/output_phenopacket\u001B[39;49m\u001B[38;5;124;43m\"\u001B[39;49m\u001B[43m,\u001B[49m\u001B[43m \u001B[49m\u001B[43mobserved_phenotypes\u001B[49m\u001B[43m,\u001B[49m\u001B[43m \u001B[49m\u001B[43mdisease\u001B[49m\u001B[43m)\u001B[49m\n\u001B[1;32m     29\u001B[0m \u001B[38;5;66;03m# filename = os.DirEntry\u001B[39;00m\n\u001B[1;32m     30\u001B[0m \u001B[38;5;66;03m# with open(filename, 'rw') as f:\u001B[39;00m\n\u001B[1;32m     31\u001B[0m \u001B[38;5;66;03m#     f.write(observed_phenotypes_hpo_ids)\u001B[39;00m\n",
      "Cell \u001B[0;32mIn[35], line 11\u001B[0m, in \u001B[0;36msave_results\u001B[0;34m(output_dir, observed_phenotypes_hpo_ids, disease)\u001B[0m\n\u001B[1;32m      9\u001B[0m \u001B[38;5;28;01mwith\u001B[39;00m \u001B[38;5;28mopen\u001B[39m(result_path, \u001B[38;5;124m\"\u001B[39m\u001B[38;5;124mw\u001B[39m\u001B[38;5;124m\"\u001B[39m) \u001B[38;5;28;01mas\u001B[39;00m file:\n\u001B[1;32m     10\u001B[0m     \u001B[38;5;28;01mfor\u001B[39;00m result \u001B[38;5;129;01min\u001B[39;00m observed_phenotypes_hpo_ids:\n\u001B[0;32m---> 11\u001B[0m             file\u001B[38;5;241m.\u001B[39mwrite(\u001B[43mdisease\u001B[49m\u001B[43m \u001B[49m\u001B[38;5;241;43m+\u001B[39;49m\u001B[43m \u001B[49m\u001B[38;5;124;43m\"\u001B[39;49m\u001B[38;5;130;43;01m\\n\u001B[39;49;00m\u001B[38;5;124;43m\"\u001B[39;49m \u001B[38;5;241m+\u001B[39m \u001B[38;5;28mstr\u001B[39m(result) \u001B[38;5;241m+\u001B[39m \u001B[38;5;124m\"\u001B[39m\u001B[38;5;130;01m\\n\u001B[39;00m\u001B[38;5;130;01m\\n\u001B[39;00m\u001B[38;5;124m\"\u001B[39m)\n",
      "\u001B[0;31mTypeError\u001B[0m: unsupported operand type(s) for +: 'RepeatedCompositeFieldContainer' and 'str'"
     ]
    }
   ],
   "source": [
    "from pathlib import Path\n",
    "from pheval.utils.phenopacket_utils import phenopacket_reader\n",
    "from pheval.utils.file_utils import all_files\n",
    "from tqdm import tqdm\n",
    "import os\n",
    "\n",
    "def save_results(output_dir, observed_phenotypes_hpo_ids, disease):\n",
    "    output_dir_path = Path(output_dir)\n",
    "    output_dir_path.mkdir(parents=True, exist_ok=True)  # Ensure directory exists\n",
    "    result_path = os.path.join(output_dir, \"disease_to_phenotypes_from_phenopacket.txt\")\n",
    "    with open(result_path, \"w\") as file:\n",
    "        for result in observed_phenotypes_hpo_ids:\n",
    "                file.write(disease + \"\\n\" + str(result) + \"\\n\\n\")\n",
    "\n",
    "path = Path(\"/Users/carlo/Carlo/pheval/pheval/corpora/lirical/default/phenopackets\")\n",
    "file_list = all_files(path)\n",
    "print(f\"Processing {len(file_list)} files...\")\n",
    "for i, file_path in tqdm(enumerate(file_list, start=1), total=385):\n",
    "    print(f\"Processing file {i}: {file_path}\")  # Print the file being processed\n",
    "    current_file_name = file_path.stem\n",
    "    print(f\"current file name  = {current_file_name}\")\n",
    "    phenopacket = phenopacket_reader(file_path)\n",
    "    phenopacket_util = PhenopacketUtil(phenopacket)\n",
    "    disease = phenopacket_util.diseases()\n",
    "    observed_phenotypes = phenopacket_util.observed_phenotypic_features()\n",
    "    observed_phenotypes_hpo_ids = [\n",
    "        observed_phenotype.type.id for observed_phenotype in observed_phenotypes\n",
    "    ]\n",
    "    save_results(\"/Users/carlo/Downloads/pheval.exomiser/output_phenopacket\", observed_phenotypes, disease)\n",
    "\n",
    "    # filename = os.DirEntry\n",
    "    # with open(filename, 'rw') as f:\n",
    "    #     f.write(observed_phenotypes_hpo_ids)\n"
   ],
   "metadata": {
    "collapsed": false,
    "ExecuteTime": {
     "end_time": "2024-03-02T14:24:28.737246Z",
     "start_time": "2024-03-02T14:24:28.686457Z"
    }
   },
   "id": "1093ded789e51cea"
  },
  {
   "cell_type": "code",
   "execution_count": 17,
   "outputs": [
    {
     "data": {
      "text/plain": "['HP:0001873', 'HP:0011974', 'HP:0012528', 'HP:0001892', 'HP:0005513']"
     },
     "execution_count": 17,
     "metadata": {},
     "output_type": "execute_result"
    }
   ],
   "source": [
    "observed_phenotypes_hpo_ids"
   ],
   "metadata": {
    "collapsed": false,
    "ExecuteTime": {
     "end_time": "2024-03-02T13:34:56.380418Z",
     "start_time": "2024-03-02T13:34:56.366892Z"
    }
   },
   "id": "d4bf939acd72013a"
  },
  {
   "cell_type": "code",
   "execution_count": 18,
   "outputs": [
    {
     "data": {
      "text/plain": "'van_Oorschot-2019-GFI1B-II_6'"
     },
     "execution_count": 18,
     "metadata": {},
     "output_type": "execute_result"
    }
   ],
   "source": [
    "current_file_name"
   ],
   "metadata": {
    "collapsed": false,
    "ExecuteTime": {
     "end_time": "2024-03-02T13:53:49.596419Z",
     "start_time": "2024-03-02T13:53:49.593042Z"
    }
   },
   "id": "ebc184f5438bb859"
  },
  {
   "cell_type": "code",
   "execution_count": null,
   "outputs": [],
   "source": [],
   "metadata": {
    "collapsed": false
   },
   "id": "5b8a88473b99bcde"
  }
 ],
 "metadata": {
  "kernelspec": {
   "display_name": "Python 3",
   "language": "python",
   "name": "python3"
  },
  "language_info": {
   "codemirror_mode": {
    "name": "ipython",
    "version": 2
   },
   "file_extension": ".py",
   "mimetype": "text/x-python",
   "name": "python",
   "nbconvert_exporter": "python",
   "pygments_lexer": "ipython2",
   "version": "2.7.6"
  }
 },
 "nbformat": 4,
 "nbformat_minor": 5
}

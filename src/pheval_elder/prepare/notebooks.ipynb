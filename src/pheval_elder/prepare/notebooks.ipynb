{
 "cells": [
  {
   "cell_type": "code",
   "id": "initial_id",
   "metadata": {
    "collapsed": true,
    "ExecuteTime": {
     "end_time": "2024-12-10T15:40:29.110980Z",
     "start_time": "2024-12-10T15:40:28.417007Z"
    }
   },
   "source": [
    "from pheval_elder.prepare.core.chromadb_manager import ChromaDBManager\n",
    "from pheval_elder.prepare.core.data_processor import DataProcessor\n",
    "\n",
    "manager = ChromaDBManager(collection_name=\"definition_hpo\", \n",
    "                          path=\"/Users/carlo/chromadb/large\")"
   ],
   "outputs": [
    {
     "name": "stderr",
     "output_type": "stream",
     "text": [
      "⚠️ It looks like you upgraded from a version below 0.6 and could benefit from vacuuming your database. Run chromadb utils vacuum --help for more information.\n"
     ]
    }
   ],
   "execution_count": 1
  },
  {
   "metadata": {
    "ExecuteTime": {
     "end_time": "2024-12-10T15:40:31.118332Z",
     "start_time": "2024-12-10T15:40:31.109006Z"
    }
   },
   "cell_type": "code",
   "source": [
    "manager.list_collections()\n",
    "# [Collection(id=18700b2d-4f53-489f-94d8-2b38dafa9345, name=lrd_hpo),\n",
    "#  Collection(id=5287b31d-3acd-4ad8-9003-89fcac10a2c3, name=definition_hpo),\n",
    "#  Collection(id=72f8f4f6-a292-46c4-9c94-09405ed1ee33, name=ada-002_weighted_average),\n",
    "#  Collection(id=7e0ecbf2-5884-438e-b78c-a8436da6c7ec, name=large_avg_definition_hpo),\n",
    "#  Collection(id=ada50577-7551-42e4-9d92-bb7b17e13f4f, name=relationships_hpo),\n",
    "#  Collection(id=d2011f02-8ce2-46eb-824f-978f883057cc, name=label_hpo),\n",
    "#  Collection(id=de2acf21-e169-425d-ac65-0fba128c8317, name=ada-002_hp),\n",
    "#  Collection(id=e6cf97dd-5ced-4864-b59e-0764be8e3405, name=ada-002_average)]"
   ],
   "id": "57ad8f9ed46643b5",
   "outputs": [
    {
     "data": {
      "text/plain": [
       "[Collection(id=18700b2d-4f53-489f-94d8-2b38dafa9345, name=lrd_hpo),\n",
       " Collection(id=5287b31d-3acd-4ad8-9003-89fcac10a2c3, name=definition_hpo),\n",
       " Collection(id=72f8f4f6-a292-46c4-9c94-09405ed1ee33, name=ada-002_weighted_average),\n",
       " Collection(id=7e0ecbf2-5884-438e-b78c-a8436da6c7ec, name=large_avg_definition_hpo),\n",
       " Collection(id=ada50577-7551-42e4-9d92-bb7b17e13f4f, name=relationships_hpo),\n",
       " Collection(id=d2011f02-8ce2-46eb-824f-978f883057cc, name=label_hpo),\n",
       " Collection(id=de2acf21-e169-425d-ac65-0fba128c8317, name=ada-002_hp),\n",
       " Collection(id=e6cf97dd-5ced-4864-b59e-0764be8e3405, name=ada-002_average)]"
      ]
     },
     "execution_count": 2,
     "metadata": {},
     "output_type": "execute_result"
    }
   ],
   "execution_count": 2
  },
  {
   "metadata": {
    "ExecuteTime": {
     "end_time": "2024-12-10T15:40:31.952948Z",
     "start_time": "2024-12-10T15:40:31.946793Z"
    }
   },
   "cell_type": "code",
   "source": "manager.client.get_collection(\"definition_hpo\")",
   "id": "53b69df5136aeb2d",
   "outputs": [
    {
     "data": {
      "text/plain": [
       "Collection(id=5287b31d-3acd-4ad8-9003-89fcac10a2c3, name=definition_hpo)"
      ]
     },
     "execution_count": 3,
     "metadata": {},
     "output_type": "execute_result"
    }
   ],
   "execution_count": 3
  },
  {
   "metadata": {
    "ExecuteTime": {
     "end_time": "2024-12-10T15:40:32.676898Z",
     "start_time": "2024-12-10T15:40:32.670528Z"
    }
   },
   "cell_type": "code",
   "source": [
    "\n",
    "collection = manager.get_or_create_collection(\"large_avg_definition_hpo\")"
   ],
   "id": "917f8733c418c475",
   "outputs": [],
   "execution_count": 4
  },
  {
   "metadata": {
    "ExecuteTime": {
     "end_time": "2024-12-10T16:00:13.950636Z",
     "start_time": "2024-12-10T16:00:02.376098Z"
    }
   },
   "cell_type": "code",
   "source": [
    "data_processor = DataProcessor(manager)\n",
    "hp_embeddings = data_processor.hp_embeddings\n",
    "hps = [\"HP:0030436\", \"HP:0002108\"]\n",
    "avg_embedding = data_processor.calculate_average_embedding(hps, hp_embeddings)\n",
    "\n",
    "query_params = {\n",
    "            \"query_embeddings\": [avg_embedding.tolist()],\n",
    "            \"include\": [\"embeddings\", \"distances\"],\n",
    "            \"n_results\": 10\n",
    "        }\n",
    "query_results = collection.query(**query_params)"
   ],
   "id": "f256065248f82785",
   "outputs": [],
   "execution_count": 12
  },
  {
   "metadata": {
    "ExecuteTime": {
     "end_time": "2024-12-10T16:00:14.983825Z",
     "start_time": "2024-12-10T16:00:14.978407Z"
    }
   },
   "cell_type": "code",
   "source": "query_results",
   "id": "94fffbf3b4e290a8",
   "outputs": [
    {
     "data": {
      "text/plain": [
       "{'ids': [['OMIM:135150',\n",
       "   'OMIM:620459',\n",
       "   'ORPHA:122',\n",
       "   'OMIM:191100',\n",
       "   'ORPHA:247806',\n",
       "   'OMIM:613254',\n",
       "   'OMIM:175100',\n",
       "   'OMIM:219600',\n",
       "   'ORPHA:538',\n",
       "   'OMIM:620343']],\n",
       " 'embeddings': [array([[-0.00240782,  0.01624196, -0.01304745, ...,  0.00150386,\n",
       "          -0.00486758, -0.01087857],\n",
       "         [-0.00186713,  0.03237655, -0.01981911, ...,  0.01120606,\n",
       "          -0.00338485, -0.0047765 ],\n",
       "         [-0.00604559,  0.00745358, -0.01419597, ...,  0.0035985 ,\n",
       "          -0.00891691, -0.0044314 ],\n",
       "         ...,\n",
       "         [-0.02401397,  0.01109247, -0.00844883, ..., -0.00354166,\n",
       "           0.00138213, -0.01622608],\n",
       "         [-0.01628132,  0.01391441, -0.00535912, ..., -0.00026164,\n",
       "          -0.00412486, -0.01007554],\n",
       "         [-0.00231945,  0.02280684, -0.01126255, ...,  0.00608654,\n",
       "           0.00315858, -0.01153698]])],\n",
       " 'documents': None,\n",
       " 'uris': None,\n",
       " 'data': None,\n",
       " 'metadatas': None,\n",
       " 'distances': [[0.28179508447647095,\n",
       "   0.2861465811729431,\n",
       "   0.33090925216674805,\n",
       "   0.3707005977630615,\n",
       "   0.3757513761520386,\n",
       "   0.38254833221435547,\n",
       "   0.387532114982605,\n",
       "   0.39013516902923584,\n",
       "   0.3915974497795105,\n",
       "   0.3927081823348999]],\n",
       " 'included': [<IncludeEnum.embeddings: 'embeddings'>,\n",
       "  <IncludeEnum.distances: 'distances'>]}"
      ]
     },
     "execution_count": 13,
     "metadata": {},
     "output_type": "execute_result"
    }
   ],
   "execution_count": 13
  },
  {
   "metadata": {},
   "cell_type": "code",
   "outputs": [],
   "execution_count": null,
   "source": "",
   "id": "7114501ee38c88af"
  }
 ],
 "metadata": {
  "kernelspec": {
   "display_name": "Python 3",
   "language": "python",
   "name": "python3"
  },
  "language_info": {
   "codemirror_mode": {
    "name": "ipython",
    "version": 2
   },
   "file_extension": ".py",
   "mimetype": "text/x-python",
   "name": "python",
   "nbconvert_exporter": "python",
   "pygments_lexer": "ipython2",
   "version": "2.7.6"
  }
 },
 "nbformat": 4,
 "nbformat_minor": 5
}
